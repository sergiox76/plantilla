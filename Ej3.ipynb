{
  "nbformat": 4,
  "nbformat_minor": 0,
  "metadata": {
    "colab": {
      "provenance": [],
      "authorship_tag": "ABX9TyMfLgUozHuhzmBJHsatGRLf",
      "include_colab_link": true
    },
    "kernelspec": {
      "name": "python3",
      "display_name": "Python 3"
    },
    "language_info": {
      "name": "python"
    }
  },
  "cells": [
    {
      "cell_type": "markdown",
      "metadata": {
        "id": "view-in-github",
        "colab_type": "text"
      },
      "source": [
        "<a href=\"https://colab.research.google.com/github/sergiox76/plantilla/blob/main/Ej3.ipynb\" target=\"_parent\"><img src=\"https://colab.research.google.com/assets/colab-badge.svg\" alt=\"Open In Colab\"/></a>"
      ]
    },
    {
      "cell_type": "markdown",
      "source": [
        "ejercicio 3"
      ],
      "metadata": {
        "id": "ZLNMElqAEFbN"
      }
    },
    {
      "cell_type": "markdown",
      "source": [
        "aceleracion"
      ],
      "metadata": {
        "id": "gR3nfve_Eivu"
      }
    },
    {
      "cell_type": "code",
      "execution_count": null,
      "metadata": {
        "colab": {
          "base_uri": "https://localhost:8080/"
        },
        "id": "Onfpkt3ZEElz",
        "outputId": "ed95e35c-fc29-43cf-fd99-f226b866ded8"
      },
      "outputs": [
        {
          "output_type": "stream",
          "name": "stdout",
          "text": [
            "Aceleration =  2.5\n"
          ]
        }
      ],
      "source": [
        "initialVelocity =0\n",
        "finalVelocity =25\n",
        "time =10\n",
        "aceleration =(finalVelocity - initialVelocity) / time \n",
        "print(\"Aceleration = \",aceleration)"
      ]
    },
    {
      "cell_type": "markdown",
      "source": [
        "distancia"
      ],
      "metadata": {
        "id": "LBWw-LtTEl9r"
      }
    },
    {
      "cell_type": "code",
      "source": [
        "Initialvelocity= 0\n",
        "time= 10\n",
        "aceleration= 2.5\n",
        "distance=(initialVelocity*time+1/2*aceleration*time**2)\n",
        "print(\"distance=\",distance)"
      ],
      "metadata": {
        "colab": {
          "base_uri": "https://localhost:8080/"
        },
        "id": "hD2-JLl0En2D",
        "outputId": "e2753f27-8dc8-4eca-eade-ecf45b1b925d"
      },
      "execution_count": null,
      "outputs": [
        {
          "output_type": "stream",
          "name": "stdout",
          "text": [
            "distance= 125.0\n"
          ]
        }
      ]
    }
  ]
}