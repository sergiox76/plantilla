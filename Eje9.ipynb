{
  "nbformat": 4,
  "nbformat_minor": 0,
  "metadata": {
    "colab": {
      "provenance": [],
      "authorship_tag": "ABX9TyMSIsZ4xuFaR+N4/4OCiLZO",
      "include_colab_link": true
    },
    "kernelspec": {
      "name": "python3",
      "display_name": "Python 3"
    },
    "language_info": {
      "name": "python"
    }
  },
  "cells": [
    {
      "cell_type": "markdown",
      "metadata": {
        "id": "view-in-github",
        "colab_type": "text"
      },
      "source": [
        "<a href=\"https://colab.research.google.com/github/sergiox76/plantilla/blob/main/Eje9.ipynb\" target=\"_parent\"><img src=\"https://colab.research.google.com/assets/colab-badge.svg\" alt=\"Open In Colab\"/></a>"
      ]
    },
    {
      "cell_type": "code",
      "execution_count": 1,
      "metadata": {
        "id": "d23qT5vQFgQ3",
        "outputId": "74fdc4e0-3352-4f1d-f9e7-e9192262fee3",
        "colab": {
          "base_uri": "https://localhost:8080/"
        }
      },
      "outputs": [
        {
          "output_type": "stream",
          "name": "stdout",
          "text": [
            "El volumen del rojo es:  9.42477796076938*h\n",
            "El volumen del rojo es:  37.6991118430775*h\n",
            "El cono azul tiene el cuadruple de altura que el cono rojo\n"
          ]
        }
      ],
      "source": [
        "#Import\n",
        "\n",
        "import numpy as np\n",
        "from sympy import *\n",
        "#Se declara las variables simbolicas \n",
        "h= symbols (\"h\")\n",
        "\n",
        "#Calcular el volumen del rojo \n",
        "\n",
        "volumen_rojo=(np.pi*h*3**2)/3\n",
        "\n",
        "#Calcular volumen del azul \n",
        "\n",
        "volumen_azul=(np.pi*h*6**2)/3\n",
        "\n",
        "#Prints\n",
        "\n",
        "print(\"El volumen del rojo es: \",volumen_rojo)\n",
        "print(\"El volumen del rojo es: \",volumen_azul)\n",
        "\n",
        "#Conclusion\n",
        "\n",
        "print(\"El cono azul tiene el cuadruple de altura que el cono rojo\")\n"
      ]
    }
  ]
}