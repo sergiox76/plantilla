{
  "nbformat": 4,
  "nbformat_minor": 0,
  "metadata": {
    "colab": {
      "provenance": [],
      "authorship_tag": "ABX9TyOjFOtI7Ok55CM2E6EiXxtG",
      "include_colab_link": true
    },
    "kernelspec": {
      "name": "python3",
      "display_name": "Python 3"
    },
    "language_info": {
      "name": "python"
    }
  },
  "cells": [
    {
      "cell_type": "markdown",
      "metadata": {
        "id": "view-in-github",
        "colab_type": "text"
      },
      "source": [
        "<a href=\"https://colab.research.google.com/github/sergiox76/plantilla/blob/main/ej1.ipynb\" target=\"_parent\"><img src=\"https://colab.research.google.com/assets/colab-badge.svg\" alt=\"Open In Colab\"/></a>"
      ]
    },
    {
      "cell_type": "markdown",
      "source": [
        "ejercicio 1"
      ],
      "metadata": {
        "id": "isfUdtWLAKFR"
      }
    },
    {
      "cell_type": "code",
      "execution_count": 1,
      "metadata": {
        "id": "9jnG6DAkAI9k",
        "outputId": "875f5d9b-3147-41b7-a80b-09c0541b09af",
        "colab": {
          "base_uri": "https://localhost:8080/"
        }
      },
      "outputs": [
        {
          "output_type": "stream",
          "name": "stdout",
          "text": [
            "Acceleration =  1.0\n"
          ]
        }
      ],
      "source": [
        "initialVelocity = 20\n",
        "  \n",
        "finalVelocity = 25\n",
        "  \n",
        "time = 5\n",
        "  \n",
        "acceleration = (finalVelocity - initialVelocity) / time \n",
        "print(\"Acceleration = \", acceleration)"
      ]
    }
  ]
}