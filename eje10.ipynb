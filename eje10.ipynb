{
  "nbformat": 4,
  "nbformat_minor": 0,
  "metadata": {
    "colab": {
      "provenance": [],
      "authorship_tag": "ABX9TyPHBVPMUHQykX50qigiZxqG",
      "include_colab_link": true
    },
    "kernelspec": {
      "name": "python3",
      "display_name": "Python 3"
    },
    "language_info": {
      "name": "python"
    }
  },
  "cells": [
    {
      "cell_type": "markdown",
      "metadata": {
        "id": "view-in-github",
        "colab_type": "text"
      },
      "source": [
        "<a href=\"https://colab.research.google.com/github/sergiox76/plantilla/blob/main/eje10.ipynb\" target=\"_parent\"><img src=\"https://colab.research.google.com/assets/colab-badge.svg\" alt=\"Open In Colab\"/></a>"
      ]
    },
    {
      "cell_type": "code",
      "execution_count": null,
      "metadata": {
        "colab": {
          "base_uri": "https://localhost:8080/"
        },
        "id": "1d9-nxBOF6d_",
        "outputId": "068151ea-ee07-4842-8963-796f61c92985"
      },
      "outputs": [
        {
          "output_type": "stream",
          "name": "stdout",
          "text": [
            "El volumen del rojo es:  5.23598775598299*r**2\n",
            "El volumen del rojo es:  10.471975511966*r**2\n",
            "El cono azul tiene el doble de volumen que el rojo\n"
          ]
        }
      ],
      "source": [
        "#Import\n",
        "\n",
        "import numpy as np\n",
        "from sympy import *\n",
        "#Se declara las variables simbolicas \n",
        "r= symbols (\"r\")\n",
        "\n",
        "#Calcular el volumen del cono azul\n",
        "\n",
        "volumen_azul=(np.pi*10*r**2)/3\n",
        "\n",
        "\n",
        "#Calcular el volumen del cono rojo \n",
        "\n",
        "volumen_rojo=(np.pi*5*r**2)/3\n",
        "\n",
        "#prints\n",
        "\n",
        "print(\"El volumen del rojo es: \",volumen_rojo)\n",
        "print(\"El volumen del rojo es: \",volumen_azul)\n",
        "\n",
        "\n",
        "#Conclusion\n",
        "\n",
        "print(\"El cono azul tiene el doble de volumen que el rojo\")"
      ]
    }
  ]
}