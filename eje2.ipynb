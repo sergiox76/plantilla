{
  "nbformat": 4,
  "nbformat_minor": 0,
  "metadata": {
    "colab": {
      "provenance": [],
      "authorship_tag": "ABX9TyPNZd1bDiTILLzS0u4ZITJx",
      "include_colab_link": true
    },
    "kernelspec": {
      "name": "python3",
      "display_name": "Python 3"
    },
    "language_info": {
      "name": "python"
    }
  },
  "cells": [
    {
      "cell_type": "markdown",
      "metadata": {
        "id": "view-in-github",
        "colab_type": "text"
      },
      "source": [
        "<a href=\"https://colab.research.google.com/github/sergiox76/plantilla/blob/main/eje2.ipynb\" target=\"_parent\"><img src=\"https://colab.research.google.com/assets/colab-badge.svg\" alt=\"Open In Colab\"/></a>"
      ]
    },
    {
      "cell_type": "markdown",
      "source": [
        "ejercicio 2"
      ],
      "metadata": {
        "id": "Ppr6QoWYCT2E"
      }
    },
    {
      "cell_type": "code",
      "execution_count": null,
      "metadata": {
        "colab": {
          "base_uri": "https://localhost:8080/"
        },
        "id": "t9KHJ0UqCR5R",
        "outputId": "0dac46ef-5231-4f93-b447-6054f381529c"
      },
      "outputs": [
        {
          "output_type": "stream",
          "name": "stdout",
          "text": [
            "Acceleration =  21.6\n"
          ]
        }
      ],
      "source": [
        "initialVelocity = 0\n",
        "  \n",
        "finalVelocity = 216\n",
        "  \n",
        "time = 10\n",
        "  \n",
        "acceleration = (finalVelocity - initialVelocity) / time \n",
        "print(\"Acceleration = \", acceleration)"
      ]
    }
  ]
}