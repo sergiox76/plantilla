{
  "nbformat": 4,
  "nbformat_minor": 0,
  "metadata": {
    "colab": {
      "provenance": [],
      "authorship_tag": "ABX9TyOA1IGUFs5zKAcxb0es68Mg",
      "include_colab_link": true
    },
    "kernelspec": {
      "name": "python3",
      "display_name": "Python 3"
    },
    "language_info": {
      "name": "python"
    }
  },
  "cells": [
    {
      "cell_type": "markdown",
      "metadata": {
        "id": "view-in-github",
        "colab_type": "text"
      },
      "source": [
        "<a href=\"https://colab.research.google.com/github/sergiox76/plantilla/blob/main/eje5.ipynb\" target=\"_parent\"><img src=\"https://colab.research.google.com/assets/colab-badge.svg\" alt=\"Open In Colab\"/></a>"
      ]
    },
    {
      "cell_type": "markdown",
      "source": [
        "ejercicio 5"
      ],
      "metadata": {
        "id": "vPRmJc-lTa8f"
      }
    },
    {
      "cell_type": "code",
      "execution_count": null,
      "metadata": {
        "colab": {
          "base_uri": "https://localhost:8080/"
        },
        "id": "8T8J6NwETXVG",
        "outputId": "16ce6793-64a0-450f-f56f-706796519f51"
      },
      "outputs": [
        {
          "output_type": "stream",
          "name": "stdout",
          "text": [
            "ingrese el valor de a...:4\n",
            "ingrese el valor de r...:5\n",
            "la suma tiene como resultado... 141.3716694115407\n"
          ]
        }
      ],
      "source": [
        "import numpy as np\n",
        "a=float(input(\"ingrese el valor de a...:\"))\n",
        "r=float(input(\"ingrese el valor de r...:\"))\n",
        "A=np.pi*r*(r+a)\n",
        "print(\"la suma tiene como resultado...\",A)"
      ]
    }
  ]
}