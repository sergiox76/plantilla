{
  "nbformat": 4,
  "nbformat_minor": 0,
  "metadata": {
    "colab": {
      "provenance": [],
      "authorship_tag": "ABX9TyMTgv+piKBAHOwioBzhUxyQ",
      "include_colab_link": true
    },
    "kernelspec": {
      "name": "python3",
      "display_name": "Python 3"
    },
    "language_info": {
      "name": "python"
    }
  },
  "cells": [
    {
      "cell_type": "markdown",
      "metadata": {
        "id": "view-in-github",
        "colab_type": "text"
      },
      "source": [
        "<a href=\"https://colab.research.google.com/github/sergiox76/plantilla/blob/main/eje6.ipynb\" target=\"_parent\"><img src=\"https://colab.research.google.com/assets/colab-badge.svg\" alt=\"Open In Colab\"/></a>"
      ]
    },
    {
      "cell_type": "code",
      "execution_count": 1,
      "metadata": {
        "id": "cgh6NXXmCv5l",
        "colab": {
          "base_uri": "https://localhost:8080/"
        },
        "outputId": "d6f98dfc-95e4-4890-d692-0c3f57dbd32e"
      },
      "outputs": [
        {
          "output_type": "stream",
          "name": "stdout",
          "text": [
            "El volumen del cono es:  47.1238898038469\n"
          ]
        }
      ],
      "source": [
        "#Importar librarias para usar el pi \n",
        "\n",
        "import numpy as np\n",
        "\n",
        "#Definir variables\n",
        "\n",
        "radio_en_metros=0.3\n",
        "altura=5\n",
        "\n",
        "#Primero se debe convertir el radio en dm para tener las mismas unidades\n",
        "\n",
        "radio_en_dm=radio_en_metros*10\n",
        "\n",
        "#Calculo del volumen\n",
        "\n",
        "volumen= (np.pi *altura*(radio_en_dm**2))/3\n",
        "\n",
        "#SALIDAS\n",
        "\n",
        "print(\"El volumen del cono es: \",volumen)"
      ]
    }
  ]
}