{
  "nbformat": 4,
  "nbformat_minor": 0,
  "metadata": {
    "colab": {
      "provenance": [],
      "authorship_tag": "ABX9TyPY5iJyDs8NDpIeVmQqEwTc",
      "include_colab_link": true
    },
    "kernelspec": {
      "name": "python3",
      "display_name": "Python 3"
    },
    "language_info": {
      "name": "python"
    }
  },
  "cells": [
    {
      "cell_type": "markdown",
      "metadata": {
        "id": "view-in-github",
        "colab_type": "text"
      },
      "source": [
        "<a href=\"https://colab.research.google.com/github/sergiox76/plantilla/blob/main/eje7.ipynb\" target=\"_parent\"><img src=\"https://colab.research.google.com/assets/colab-badge.svg\" alt=\"Open In Colab\"/></a>"
      ]
    },
    {
      "cell_type": "code",
      "execution_count": null,
      "metadata": {
        "id": "YLlQpjt0DW6E"
      },
      "outputs": [],
      "source": [
        "#Importar librearias\n",
        "\n",
        "import numpy as np \n",
        "\n",
        "#Definir variables\n",
        "\n",
        "altura=3\n",
        "radio=4\n",
        "\n",
        "#Calcular la altura inclinada \n",
        "\n",
        "altura_inclinada= np.sqrt(altura**2 + radio**2)\n",
        "\n",
        "#Calcular el area de un cono \n",
        "\n",
        "area= np.pi*radio*(radio+altura_inclinada)\n",
        "\n",
        "#Salidas\n",
        "\n",
        "print(\"El area del cono es:  \",area)"
      ]
    }
  ]
}