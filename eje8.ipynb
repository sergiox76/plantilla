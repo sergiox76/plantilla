{
  "nbformat": 4,
  "nbformat_minor": 0,
  "metadata": {
    "colab": {
      "provenance": [],
      "authorship_tag": "ABX9TyOI6iQK7mC5VzJHzmiqxf9y",
      "include_colab_link": true
    },
    "kernelspec": {
      "name": "python3",
      "display_name": "Python 3"
    },
    "language_info": {
      "name": "python"
    }
  },
  "cells": [
    {
      "cell_type": "markdown",
      "metadata": {
        "id": "view-in-github",
        "colab_type": "text"
      },
      "source": [
        "<a href=\"https://colab.research.google.com/github/sergiox76/plantilla/blob/main/eje8.ipynb\" target=\"_parent\"><img src=\"https://colab.research.google.com/assets/colab-badge.svg\" alt=\"Open In Colab\"/></a>"
      ]
    },
    {
      "cell_type": "code",
      "execution_count": null,
      "metadata": {
        "id": "gQMgbp_EFEt-"
      },
      "outputs": [],
      "source": [
        "#Importar librerias\n",
        "\n",
        "import numpy as np \n",
        "\n",
        "#Definir variables\n",
        "\n",
        "altura=1\n",
        "altura_inclinada=2\n",
        "\n",
        "#Calcular el radio\n",
        "\n",
        "radio=np.sqrt(altura_inclinada**2 -altura**2)\n",
        "\n",
        "#Calcular el area\n",
        "\n",
        "area= np.pi *radio*(radio+altura_inclinada)\n",
        "\n",
        "#Prints\n",
        "\n",
        "print(\"El area del cono es \", area)"
      ]
    }
  ]
}